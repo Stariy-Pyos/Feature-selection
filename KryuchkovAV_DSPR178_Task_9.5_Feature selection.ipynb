{
 "cells": [
  {
   "cell_type": "markdown",
   "metadata": {},
   "source": [
    "# Модуль ML-6, Задание 9.5\n",
    "## Отбор признаков\n",
    "### Крючков А.В. Группа DSPR178"
   ]
  },
  {
   "cell_type": "code",
   "execution_count": 72,
   "metadata": {
    "id": "t_IvORKWGuCH"
   },
   "outputs": [],
   "source": [
    "import pandas as pd\n",
    "\n",
    "from sklearn.model_selection import train_test_split\n",
    "from sklearn.linear_model import LinearRegression\n",
    "from sklearn.metrics import mean_absolute_error\n",
    "from sklearn.metrics import mean_absolute_percentage_error"
   ]
  },
  {
   "cell_type": "markdown",
   "metadata": {
    "id": "FtTudvkQGzRk"
   },
   "source": [
    "# Загрузка данных"
   ]
  },
  {
   "cell_type": "code",
   "execution_count": 73,
   "metadata": {
    "id": "CiadW5D9G07U"
   },
   "outputs": [],
   "source": [
    "#%%capture\n",
    "#!wget https://www.dropbox.com/s/64ol9q9ssggz6f1/data_ford_price.xlsx"
   ]
  },
  {
   "cell_type": "code",
   "execution_count": 74,
   "metadata": {
    "id": "gmll87tAG2rK"
   },
   "outputs": [],
   "source": [
    "data = pd.read_excel('data_ford_price.xlsx') "
   ]
  },
  {
   "cell_type": "markdown",
   "metadata": {
    "id": "zKZZVz_6IA1m"
   },
   "source": [
    "#  Отбор признаков: мотивация"
   ]
  },
  {
   "cell_type": "markdown",
   "metadata": {
    "id": "dt3vhRQ2G_uP"
   },
   "source": [
    "## Предобработка данных"
   ]
  },
  {
   "cell_type": "code",
   "execution_count": 75,
   "metadata": {
    "id": "CJdK-t3MHDSp"
   },
   "outputs": [],
   "source": [
    "data = data[['price','year', 'cylinders', 'odometer', 'lat', 'long', 'weather']]\n",
    "data.dropna(inplace = True)\n",
    "\n",
    "y = data['price']\n",
    "x = data.drop(columns='price')\n",
    "\n",
    "X_train, X_test, y_train, y_test = train_test_split(x, y, test_size=0.3, random_state=40)"
   ]
  },
  {
   "cell_type": "markdown",
   "metadata": {
    "id": "kqjEj0ABG4ZD"
   },
   "source": [
    "## Обучение модели"
   ]
  },
  {
   "cell_type": "code",
   "execution_count": 76,
   "metadata": {
    "colab": {
     "base_uri": "https://localhost:8080/"
    },
    "executionInfo": {
     "elapsed": 8,
     "status": "ok",
     "timestamp": 1650361775695,
     "user": {
      "displayName": "Ketrin Trofimova",
      "userId": "05400058012601189465"
     },
     "user_tz": -180
    },
    "id": "K0aIWfwpHSHN",
    "outputId": "9d5779ab-7fea-43e4-f7d6-62317dfcc079"
   },
   "outputs": [
    {
     "name": "stdout",
     "output_type": "stream",
     "text": [
      "MAE: 4682.957\n"
     ]
    }
   ],
   "source": [
    "model = LinearRegression()\n",
    "model.fit(X_train, y_train)\n",
    "y_predicted = model.predict(X_test)\n",
    " \n",
    "mae = mean_absolute_error(y_test, y_predicted)\n",
    "print('MAE: %.3f' % mae)"
   ]
  },
  {
   "cell_type": "markdown",
   "metadata": {
    "id": "TznnlORnHisT"
   },
   "source": [
    "## Удаление избыточного признака"
   ]
  },
  {
   "cell_type": "code",
   "execution_count": 77,
   "metadata": {
    "id": "2uKP_vEMHoBa"
   },
   "outputs": [],
   "source": [
    "x.drop('lat', axis = 1, inplace = True)"
   ]
  },
  {
   "cell_type": "code",
   "execution_count": 78,
   "metadata": {
    "id": "A7f7kV-6HrrL"
   },
   "outputs": [],
   "source": [
    "X_train, X_test, y_train, y_test = train_test_split(x, y, test_size=0.3, random_state=40)"
   ]
  },
  {
   "cell_type": "code",
   "execution_count": 79,
   "metadata": {
    "colab": {
     "base_uri": "https://localhost:8080/"
    },
    "executionInfo": {
     "elapsed": 434,
     "status": "ok",
     "timestamp": 1650361779668,
     "user": {
      "displayName": "Ketrin Trofimova",
      "userId": "05400058012601189465"
     },
     "user_tz": -180
    },
    "id": "pJQpOM9kHtSe",
    "outputId": "709029e0-e13b-4f2b-92f7-9fa807a81b0f"
   },
   "outputs": [
    {
     "name": "stdout",
     "output_type": "stream",
     "text": [
      "MAE: 4672.930\n"
     ]
    }
   ],
   "source": [
    "model = LinearRegression()\n",
    "model.fit(X_train, y_train)\n",
    "y_predicted = model.predict(X_test)\n",
    " \n",
    "mae = mean_absolute_error(y_test, y_predicted)\n",
    "print('MAE: %.3f' % mae)"
   ]
  },
  {
   "cell_type": "markdown",
   "metadata": {
    "id": "E54vkz2xIGWm"
   },
   "source": [
    "#  Отбор признаков: классификация методов"
   ]
  },
  {
   "cell_type": "markdown",
   "metadata": {
    "id": "dUnTavGgIpj0"
   },
   "source": [
    "## Метод рекурсивного исключения признаков"
   ]
  },
  {
   "cell_type": "code",
   "execution_count": 80,
   "metadata": {
    "id": "UYdiW0RWIZ5V"
   },
   "outputs": [],
   "source": [
    "from sklearn.feature_selection import RFE"
   ]
  },
  {
   "cell_type": "code",
   "execution_count": 81,
   "metadata": {
    "id": "n3MW_xlPIJHd"
   },
   "outputs": [],
   "source": [
    "y = data['price']\n",
    "x = data.drop(columns='price')"
   ]
  },
  {
   "cell_type": "code",
   "execution_count": 82,
   "metadata": {
    "id": "uU5SYUHvOlbt"
   },
   "outputs": [],
   "source": [
    "X_train, X_test, y_train, y_test = train_test_split(x, y, test_size=0.3, random_state=40)"
   ]
  },
  {
   "cell_type": "code",
   "execution_count": 83,
   "metadata": {
    "colab": {
     "base_uri": "https://localhost:8080/"
    },
    "executionInfo": {
     "elapsed": 5,
     "status": "ok",
     "timestamp": 1650361787999,
     "user": {
      "displayName": "Ketrin Trofimova",
      "userId": "05400058012601189465"
     },
     "user_tz": -180
    },
    "id": "qxZGlxQYITTm",
    "outputId": "cf3cfc7c-1bb2-4a2b-b8c4-26a5857e251a"
   },
   "outputs": [
    {
     "data": {
      "text/plain": [
       "array(['year', 'cylinders', 'lat'], dtype=object)"
      ]
     },
     "execution_count": 83,
     "metadata": {},
     "output_type": "execute_result"
    }
   ],
   "source": [
    "estimator = LinearRegression()\n",
    "selector_rfe = RFE(estimator, n_features_to_select=3, step=1)\n",
    "selector_rfe = selector_rfe.fit(X_train, y_train)\n",
    " \n",
    "selector_rfe.get_feature_names_out()"
   ]
  },
  {
   "cell_type": "code",
   "execution_count": 84,
   "metadata": {
    "colab": {
     "base_uri": "https://localhost:8080/"
    },
    "executionInfo": {
     "elapsed": 303,
     "status": "ok",
     "timestamp": 1650361789809,
     "user": {
      "displayName": "Ketrin Trofimova",
      "userId": "05400058012601189465"
     },
     "user_tz": -180
    },
    "id": "VdZbOvqdIebk",
    "outputId": "ac89f779-2388-4185-8647-b8addd1cbfac"
   },
   "outputs": [
    {
     "data": {
      "text/plain": [
       "Index(['year', 'cylinders', 'odometer', 'lat', 'long', 'weather'], dtype='object')"
      ]
     },
     "execution_count": 84,
     "metadata": {},
     "output_type": "execute_result"
    }
   ],
   "source": [
    "X_train.columns"
   ]
  },
  {
   "cell_type": "code",
   "execution_count": 85,
   "metadata": {
    "colab": {
     "base_uri": "https://localhost:8080/"
    },
    "executionInfo": {
     "elapsed": 416,
     "status": "ok",
     "timestamp": 1650361793169,
     "user": {
      "displayName": "Ketrin Trofimova",
      "userId": "05400058012601189465"
     },
     "user_tz": -180
    },
    "id": "QJ93ms5kIlS7",
    "outputId": "ae52c597-f97e-4d2f-d679-fb7b9e29ed8a"
   },
   "outputs": [
    {
     "data": {
      "text/plain": [
       "array([1, 1, 4, 1, 3, 2])"
      ]
     },
     "execution_count": 85,
     "metadata": {},
     "output_type": "execute_result"
    }
   ],
   "source": [
    "selector_rfe.ranking_"
   ]
  },
  {
   "cell_type": "markdown",
   "metadata": {
    "id": "_KhZgXCkK3Ap"
   },
   "source": [
    "##  Методы выбора признаков на основе фильтров"
   ]
  },
  {
   "cell_type": "code",
   "execution_count": 86,
   "metadata": {
    "id": "mVHuMD0eK8or"
   },
   "outputs": [],
   "source": [
    "from sklearn.feature_selection import SelectKBest, f_regression"
   ]
  },
  {
   "cell_type": "code",
   "execution_count": 87,
   "metadata": {
    "colab": {
     "base_uri": "https://localhost:8080/"
    },
    "executionInfo": {
     "elapsed": 413,
     "status": "ok",
     "timestamp": 1650361806172,
     "user": {
      "displayName": "Ketrin Trofimova",
      "userId": "05400058012601189465"
     },
     "user_tz": -180
    },
    "id": "dc2EPKG5K39w",
    "outputId": "4bc13ef2-9c06-47c6-f892-566135ee3dcd"
   },
   "outputs": [
    {
     "data": {
      "text/plain": [
       "array(['year', 'cylinders', 'odometer'], dtype=object)"
      ]
     },
     "execution_count": 87,
     "metadata": {},
     "output_type": "execute_result"
    }
   ],
   "source": [
    "selector_skb = SelectKBest(f_regression, k=3)\n",
    "selector_skb.fit(X_train, y_train)\n",
    " \n",
    "selector_skb.get_feature_names_out()"
   ]
  },
  {
   "cell_type": "markdown",
   "metadata": {},
   "source": [
    "# ОБУЧЕНИЕ МОДЕЛИ И ПРЕДСКАЗАНИЕ ЦЕЛЕВОГО ПРИЗНАКА ПОСЛЕ ОТБОРА ПРИЗНАКОВ"
   ]
  },
  {
   "cell_type": "markdown",
   "metadata": {},
   "source": [
    "## Обучение модели и предсказание целевог опризнака после отбора по методу рекурсивного исключения признаков"
   ]
  },
  {
   "cell_type": "code",
   "execution_count": 88,
   "metadata": {},
   "outputs": [],
   "source": [
    "columns_rfe = list(selector_rfe.get_feature_names_out())\n",
    "X_train_rfe = X_train[columns_rfe]; X_test_rfe = X_test[columns_rfe]"
   ]
  },
  {
   "cell_type": "code",
   "execution_count": 89,
   "metadata": {},
   "outputs": [
    {
     "name": "stdout",
     "output_type": "stream",
     "text": [
      "MAE RFE: 5096.570\n"
     ]
    }
   ],
   "source": [
    "model_rfe = LinearRegression()\n",
    "model_rfe.fit(X_train_rfe, y_train)\n",
    "y_predicted_rfe = model_rfe.predict(X_test_rfe)\n",
    " \n",
    "mae_rfe = mean_absolute_error(y_test, y_predicted_rfe)\n",
    "print('MAE RFE: %.3f' % mae_rfe)"
   ]
  },
  {
   "cell_type": "markdown",
   "metadata": {},
   "source": [
    "## Обучение модели и предсказание целевог опризнака после отбора по методу выбора признаков на основе фильтров"
   ]
  },
  {
   "cell_type": "code",
   "execution_count": 90,
   "metadata": {},
   "outputs": [],
   "source": [
    "columns_skb = list(selector_skb.get_feature_names_out())\n",
    "X_train_skb = X_train[columns_skb]; X_test_skb = X_test[columns_skb]"
   ]
  },
  {
   "cell_type": "code",
   "execution_count": 91,
   "metadata": {},
   "outputs": [
    {
     "name": "stdout",
     "output_type": "stream",
     "text": [
      "MAE SelectKBest: 4708.946\n"
     ]
    }
   ],
   "source": [
    "model_skb = LinearRegression()\n",
    "model_skb.fit(X_train_skb, y_train)\n",
    "y_predicted_skb = model_skb.predict(X_test_skb)\n",
    " \n",
    "mae_skb = mean_absolute_error(y_test, y_predicted_skb)\n",
    "print('MAE SelectKBest: %.3f' % mae_skb)"
   ]
  },
  {
   "cell_type": "markdown",
   "metadata": {},
   "source": [
    "# Выводы\n",
    "Метод рекурсивного исключения признаков (RFE) показал худшие результаты в метрике MAE - 5096.570 по сравнению с методом выбора признаковт на основе фильтров SelectKBest MAE - 4708.946. \n",
    "\n",
    "Однако, оба метода показали худшие рузультаты по сравнению обычным предсказанием без отбора MAE - 4672.930."
   ]
  }
 ],
 "metadata": {
  "colab": {
   "collapsed_sections": [],
   "name": "Отбор_признаков.ipynb",
   "provenance": []
  },
  "kernelspec": {
   "display_name": "Python 3",
   "name": "python3"
  },
  "language_info": {
   "codemirror_mode": {
    "name": "ipython",
    "version": 3
   },
   "file_extension": ".py",
   "mimetype": "text/x-python",
   "name": "python",
   "nbconvert_exporter": "python",
   "pygments_lexer": "ipython3",
   "version": "3.11.9"
  }
 },
 "nbformat": 4,
 "nbformat_minor": 0
}
